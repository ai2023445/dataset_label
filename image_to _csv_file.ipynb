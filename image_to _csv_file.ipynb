{
 "cells": [
  {
   "cell_type": "code",
   "execution_count": null,
   "metadata": {},
   "outputs": [],
   "source": [
    "import os\n",
    "import csv\n",
    "\n",
    "def convert_images_to_csv(image_folder, csv_file_path):\n",
    "    image_paths = []\n",
    "    labels = []\n",
    "\n",
    "    for root, _, files in os.walk(image_folder):\n",
    "        for file in files:\n",
    "            if file.endswith(('.jpg', '.jpeg', '.png', '.bmp', '.gif')):\n",
    "                image_path = os.path.join(root, file)\n",
    "                label = os.path.basename(root)  # Assuming labels are based on folder names\n",
    "\n",
    "                image_paths.append(image_path)\n",
    "                labels.append(label)\n",
    "\n",
    "    with open(csv_file_path, 'w', newline='') as csvfile:\n",
    "        writer = csv.writer(csvfile)\n",
    "        writer.writerow(['image_path', 'label'])\n",
    "\n",
    "        for i in range(len(image_paths)):\n",
    "            writer.writerow([image_paths[i], labels[i]])"
   ]
  }
 ],
 "metadata": {
  "language_info": {
   "name": "python"
  }
 },
 "nbformat": 4,
 "nbformat_minor": 2
}
